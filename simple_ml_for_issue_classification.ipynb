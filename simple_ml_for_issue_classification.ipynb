{
  "nbformat": 4,
  "nbformat_minor": 0,
  "metadata": {
    "colab": {
      "provenance": []
    },
    "kernelspec": {
      "name": "python3",
      "display_name": "Python 3"
    },
    "language_info": {
      "name": "python"
    }
  },
  "cells": [
    {
      "cell_type": "markdown",
      "source": [
        "#**Issue Report Classification using Traditional Machine Learning methods**\n",
        "\n",
        "- This notebook contains the code for using traditional machine learning methods for multi-class issue report classification.\n",
        "\n",
        "## Implementation details\n",
        "\n",
        "### Algorithms used:\n",
        "* XGBoost multi-class classification\n",
        "* Random Forest multi-class classification\n"
      ],
      "metadata": {
        "id": "VGgq4j_3oAjX"
      }
    },
    {
      "cell_type": "markdown",
      "source": [
        "### Installing required libraries"
      ],
      "metadata": {
        "id": "EY9OWiuqf98i"
      }
    },
    {
      "cell_type": "code",
      "source": [
        "!pip install datasets"
      ],
      "metadata": {
        "colab": {
          "base_uri": "https://localhost:8080/"
        },
        "id": "ECZmwMOMhm8a",
        "outputId": "3d8f14d6-55fa-401f-d7cc-1401cfe86577"
      },
      "execution_count": 1,
      "outputs": [
        {
          "output_type": "stream",
          "name": "stdout",
          "text": [
            "Collecting datasets\n",
            "  Downloading datasets-2.16.1-py3-none-any.whl (507 kB)\n",
            "\u001b[2K     \u001b[90m━━━━━━━━━━━━━━━━━━━━━━━━━━━━━━━━━━━━━━━━\u001b[0m \u001b[32m507.1/507.1 kB\u001b[0m \u001b[31m3.2 MB/s\u001b[0m eta \u001b[36m0:00:00\u001b[0m\n",
            "\u001b[?25hRequirement already satisfied: filelock in /usr/local/lib/python3.10/dist-packages (from datasets) (3.13.1)\n",
            "Requirement already satisfied: numpy>=1.17 in /usr/local/lib/python3.10/dist-packages (from datasets) (1.23.5)\n",
            "Requirement already satisfied: pyarrow>=8.0.0 in /usr/local/lib/python3.10/dist-packages (from datasets) (10.0.1)\n",
            "Requirement already satisfied: pyarrow-hotfix in /usr/local/lib/python3.10/dist-packages (from datasets) (0.6)\n",
            "Collecting dill<0.3.8,>=0.3.0 (from datasets)\n",
            "  Downloading dill-0.3.7-py3-none-any.whl (115 kB)\n",
            "\u001b[2K     \u001b[90m━━━━━━━━━━━━━━━━━━━━━━━━━━━━━━━━━━━━━━━━\u001b[0m \u001b[32m115.3/115.3 kB\u001b[0m \u001b[31m11.3 MB/s\u001b[0m eta \u001b[36m0:00:00\u001b[0m\n",
            "\u001b[?25hRequirement already satisfied: pandas in /usr/local/lib/python3.10/dist-packages (from datasets) (1.5.3)\n",
            "Requirement already satisfied: requests>=2.19.0 in /usr/local/lib/python3.10/dist-packages (from datasets) (2.31.0)\n",
            "Requirement already satisfied: tqdm>=4.62.1 in /usr/local/lib/python3.10/dist-packages (from datasets) (4.66.1)\n",
            "Requirement already satisfied: xxhash in /usr/local/lib/python3.10/dist-packages (from datasets) (3.4.1)\n",
            "Collecting multiprocess (from datasets)\n",
            "  Downloading multiprocess-0.70.15-py310-none-any.whl (134 kB)\n",
            "\u001b[2K     \u001b[90m━━━━━━━━━━━━━━━━━━━━━━━━━━━━━━━━━━━━━━━━\u001b[0m \u001b[32m134.8/134.8 kB\u001b[0m \u001b[31m14.5 MB/s\u001b[0m eta \u001b[36m0:00:00\u001b[0m\n",
            "\u001b[?25hRequirement already satisfied: fsspec[http]<=2023.10.0,>=2023.1.0 in /usr/local/lib/python3.10/dist-packages (from datasets) (2023.6.0)\n",
            "Requirement already satisfied: aiohttp in /usr/local/lib/python3.10/dist-packages (from datasets) (3.9.1)\n",
            "Requirement already satisfied: huggingface-hub>=0.19.4 in /usr/local/lib/python3.10/dist-packages (from datasets) (0.20.2)\n",
            "Requirement already satisfied: packaging in /usr/local/lib/python3.10/dist-packages (from datasets) (23.2)\n",
            "Requirement already satisfied: pyyaml>=5.1 in /usr/local/lib/python3.10/dist-packages (from datasets) (6.0.1)\n",
            "Requirement already satisfied: attrs>=17.3.0 in /usr/local/lib/python3.10/dist-packages (from aiohttp->datasets) (23.2.0)\n",
            "Requirement already satisfied: multidict<7.0,>=4.5 in /usr/local/lib/python3.10/dist-packages (from aiohttp->datasets) (6.0.4)\n",
            "Requirement already satisfied: yarl<2.0,>=1.0 in /usr/local/lib/python3.10/dist-packages (from aiohttp->datasets) (1.9.4)\n",
            "Requirement already satisfied: frozenlist>=1.1.1 in /usr/local/lib/python3.10/dist-packages (from aiohttp->datasets) (1.4.1)\n",
            "Requirement already satisfied: aiosignal>=1.1.2 in /usr/local/lib/python3.10/dist-packages (from aiohttp->datasets) (1.3.1)\n",
            "Requirement already satisfied: async-timeout<5.0,>=4.0 in /usr/local/lib/python3.10/dist-packages (from aiohttp->datasets) (4.0.3)\n",
            "Requirement already satisfied: typing-extensions>=3.7.4.3 in /usr/local/lib/python3.10/dist-packages (from huggingface-hub>=0.19.4->datasets) (4.5.0)\n",
            "Requirement already satisfied: charset-normalizer<4,>=2 in /usr/local/lib/python3.10/dist-packages (from requests>=2.19.0->datasets) (3.3.2)\n",
            "Requirement already satisfied: idna<4,>=2.5 in /usr/local/lib/python3.10/dist-packages (from requests>=2.19.0->datasets) (3.6)\n",
            "Requirement already satisfied: urllib3<3,>=1.21.1 in /usr/local/lib/python3.10/dist-packages (from requests>=2.19.0->datasets) (2.0.7)\n",
            "Requirement already satisfied: certifi>=2017.4.17 in /usr/local/lib/python3.10/dist-packages (from requests>=2.19.0->datasets) (2023.11.17)\n",
            "Requirement already satisfied: python-dateutil>=2.8.1 in /usr/local/lib/python3.10/dist-packages (from pandas->datasets) (2.8.2)\n",
            "Requirement already satisfied: pytz>=2020.1 in /usr/local/lib/python3.10/dist-packages (from pandas->datasets) (2023.3.post1)\n",
            "Requirement already satisfied: six>=1.5 in /usr/local/lib/python3.10/dist-packages (from python-dateutil>=2.8.1->pandas->datasets) (1.16.0)\n",
            "Installing collected packages: dill, multiprocess, datasets\n",
            "Successfully installed datasets-2.16.1 dill-0.3.7 multiprocess-0.70.15\n"
          ]
        }
      ]
    },
    {
      "cell_type": "markdown",
      "source": [
        "## XGBoost Classifier"
      ],
      "metadata": {
        "id": "itWsbbR1dXCU"
      }
    },
    {
      "cell_type": "markdown",
      "source": [
        "### Importing necessary libraries"
      ],
      "metadata": {
        "id": "ZG2MgSeGgFE8"
      }
    },
    {
      "cell_type": "code",
      "execution_count": 2,
      "metadata": {
        "id": "Vnmw6Lt0n11d"
      },
      "outputs": [],
      "source": [
        "from xgboost import XGBClassifier\n",
        "import pandas as pd\n",
        "from sklearn.metrics import accuracy_score\n",
        "from sklearn.model_selection import GridSearchCV\n",
        "from datasets import Dataset"
      ]
    },
    {
      "cell_type": "code",
      "source": [
        "param_grid_xgb = {\n",
        "    \"max_depth\": [4,5,6],\n",
        "    \"n_estimators\": [200,300],\n",
        "    \"learning_rate\": [0.1, 0.2, 0.25],\n",
        "    \"gamma\": [10,50,100]\n",
        "}"
      ],
      "metadata": {
        "id": "uTrk7OBToFqf"
      },
      "execution_count": 3,
      "outputs": []
    },
    {
      "cell_type": "markdown",
      "source": [
        "### Loading the datasets"
      ],
      "metadata": {
        "id": "Xpi9bGx9gNeY"
      }
    },
    {
      "cell_type": "code",
      "source": [
        "train_file_path = r\"https://github.com/lhamu/issue-report-classification/raw/main/preprocessed_data/preprocessed_issues_train.csv\"\n",
        "test_file_path = r\"https://github.com/lhamu/issue-report-classification/raw/main/preprocessed_data/preprocessed_issues_test.csv\""
      ],
      "metadata": {
        "id": "bXfYl1M1gYob"
      },
      "execution_count": 4,
      "outputs": []
    },
    {
      "cell_type": "code",
      "source": [
        "train_set = pd.read_csv(train_file_path)\n",
        "test_set = pd.read_csv(test_file_path)"
      ],
      "metadata": {
        "id": "FSMDZ2steBBp"
      },
      "execution_count": 5,
      "outputs": []
    },
    {
      "cell_type": "code",
      "source": [
        "train_set = train_set.rename(columns={\"issue_text\": \"text\"})\n",
        "test_set = test_set.rename(columns={\"issue_text\": \"text\"})\n",
        "train_set.columns\n"
      ],
      "metadata": {
        "colab": {
          "base_uri": "https://localhost:8080/"
        },
        "id": "agrfU8kLgbtU",
        "outputId": "8cb4a489-6535-46a2-a388-5cb244771940"
      },
      "execution_count": 6,
      "outputs": [
        {
          "output_type": "execute_result",
          "data": {
            "text/plain": [
              "Index(['repo', 'text', 'label'], dtype='object')"
            ]
          },
          "metadata": {},
          "execution_count": 6
        }
      ]
    },
    {
      "cell_type": "code",
      "source": [
        "unique_repo_values = list(set(train_set[\"repo\"]))\n",
        "unique_repo_values"
      ],
      "metadata": {
        "colab": {
          "base_uri": "https://localhost:8080/"
        },
        "id": "joGnsFAdhSfW",
        "outputId": "6c4315fb-0bbf-4366-e27b-66ef8fe87ee6"
      },
      "execution_count": 7,
      "outputs": [
        {
          "output_type": "execute_result",
          "data": {
            "text/plain": [
              "['microsoft/vscode',\n",
              " 'facebook/react',\n",
              " 'opencv/opencv',\n",
              " 'tensorflow/tensorflow',\n",
              " 'bitcoin/bitcoin']"
            ]
          },
          "metadata": {},
          "execution_count": 7
        }
      ]
    },
    {
      "cell_type": "markdown",
      "source": [
        "### Training and Inference"
      ],
      "metadata": {
        "id": "F_rtD2YBgiD1"
      }
    },
    {
      "cell_type": "code",
      "source": [
        "from collections import defaultdict\n",
        "from sklearn.metrics import classification_report\n",
        "from sklearn.feature_extraction.text import TfidfVectorizer\n",
        "\n",
        "xgboost_results = defaultdict(dict)\n",
        "for repo in unique_repo_values:\n",
        "    repo_train_set = train_set[train_set['repo']==repo]\n",
        "    repo_train_set[\"text\"] = repo_train_set[\"text\"].values.astype(str)\n",
        "    repo_test_set = test_set[test_set['repo']==repo]\n",
        "    repo_test_set[\"text\"] = repo_test_set[\"text\"].values.astype(str)\n",
        "    vectorizer = TfidfVectorizer()\n",
        "    X_train = repo_train_set[\"text\"]\n",
        "    X_train = vectorizer.fit_transform(X_train)\n",
        "    y_train = repo_train_set[\"label\"]\n",
        "    X_test = repo_test_set[\"text\"]\n",
        "    X_test = vectorizer.transform(X_test)\n",
        "    y_test = repo_test_set[\"label\"]\n",
        "    model = XGBClassifier(n_estimators=200, max_depth=6, learning_rate=0.25, gamma=10, reg_alpha=0.1,\n",
        "                          reg_lambda=0.5, eval_metric=\"mlogloss\", num_class=3,\n",
        "                          objective=\"multi:softmax\", random_state=42)\n",
        "\n",
        "    model.fit(X_train, y_train)\n",
        "    predictions = model.predict(X_test)\n",
        "    xgboost_results[repo]['metrics'] = classification_report(repo_test_set['label'], predictions, digits=4, output_dict=True)\n",
        "    xgboost_results[repo]['predictions'] = predictions.tolist()"
      ],
      "metadata": {
        "colab": {
          "base_uri": "https://localhost:8080/"
        },
        "id": "XwLaIXF8hf2u",
        "outputId": "c21487c1-534d-43fc-fcdd-642cb6b2d1e3"
      },
      "execution_count": 8,
      "outputs": [
        {
          "output_type": "stream",
          "name": "stderr",
          "text": [
            "<ipython-input-8-c4abcae59a47>:8: SettingWithCopyWarning: \n",
            "A value is trying to be set on a copy of a slice from a DataFrame.\n",
            "Try using .loc[row_indexer,col_indexer] = value instead\n",
            "\n",
            "See the caveats in the documentation: https://pandas.pydata.org/pandas-docs/stable/user_guide/indexing.html#returning-a-view-versus-a-copy\n",
            "  repo_train_set[\"text\"] = repo_train_set[\"text\"].values.astype(str)\n",
            "<ipython-input-8-c4abcae59a47>:10: SettingWithCopyWarning: \n",
            "A value is trying to be set on a copy of a slice from a DataFrame.\n",
            "Try using .loc[row_indexer,col_indexer] = value instead\n",
            "\n",
            "See the caveats in the documentation: https://pandas.pydata.org/pandas-docs/stable/user_guide/indexing.html#returning-a-view-versus-a-copy\n",
            "  repo_test_set[\"text\"] = repo_test_set[\"text\"].values.astype(str)\n",
            "<ipython-input-8-c4abcae59a47>:8: SettingWithCopyWarning: \n",
            "A value is trying to be set on a copy of a slice from a DataFrame.\n",
            "Try using .loc[row_indexer,col_indexer] = value instead\n",
            "\n",
            "See the caveats in the documentation: https://pandas.pydata.org/pandas-docs/stable/user_guide/indexing.html#returning-a-view-versus-a-copy\n",
            "  repo_train_set[\"text\"] = repo_train_set[\"text\"].values.astype(str)\n",
            "<ipython-input-8-c4abcae59a47>:10: SettingWithCopyWarning: \n",
            "A value is trying to be set on a copy of a slice from a DataFrame.\n",
            "Try using .loc[row_indexer,col_indexer] = value instead\n",
            "\n",
            "See the caveats in the documentation: https://pandas.pydata.org/pandas-docs/stable/user_guide/indexing.html#returning-a-view-versus-a-copy\n",
            "  repo_test_set[\"text\"] = repo_test_set[\"text\"].values.astype(str)\n",
            "<ipython-input-8-c4abcae59a47>:8: SettingWithCopyWarning: \n",
            "A value is trying to be set on a copy of a slice from a DataFrame.\n",
            "Try using .loc[row_indexer,col_indexer] = value instead\n",
            "\n",
            "See the caveats in the documentation: https://pandas.pydata.org/pandas-docs/stable/user_guide/indexing.html#returning-a-view-versus-a-copy\n",
            "  repo_train_set[\"text\"] = repo_train_set[\"text\"].values.astype(str)\n",
            "<ipython-input-8-c4abcae59a47>:10: SettingWithCopyWarning: \n",
            "A value is trying to be set on a copy of a slice from a DataFrame.\n",
            "Try using .loc[row_indexer,col_indexer] = value instead\n",
            "\n",
            "See the caveats in the documentation: https://pandas.pydata.org/pandas-docs/stable/user_guide/indexing.html#returning-a-view-versus-a-copy\n",
            "  repo_test_set[\"text\"] = repo_test_set[\"text\"].values.astype(str)\n",
            "<ipython-input-8-c4abcae59a47>:8: SettingWithCopyWarning: \n",
            "A value is trying to be set on a copy of a slice from a DataFrame.\n",
            "Try using .loc[row_indexer,col_indexer] = value instead\n",
            "\n",
            "See the caveats in the documentation: https://pandas.pydata.org/pandas-docs/stable/user_guide/indexing.html#returning-a-view-versus-a-copy\n",
            "  repo_train_set[\"text\"] = repo_train_set[\"text\"].values.astype(str)\n",
            "<ipython-input-8-c4abcae59a47>:10: SettingWithCopyWarning: \n",
            "A value is trying to be set on a copy of a slice from a DataFrame.\n",
            "Try using .loc[row_indexer,col_indexer] = value instead\n",
            "\n",
            "See the caveats in the documentation: https://pandas.pydata.org/pandas-docs/stable/user_guide/indexing.html#returning-a-view-versus-a-copy\n",
            "  repo_test_set[\"text\"] = repo_test_set[\"text\"].values.astype(str)\n",
            "<ipython-input-8-c4abcae59a47>:8: SettingWithCopyWarning: \n",
            "A value is trying to be set on a copy of a slice from a DataFrame.\n",
            "Try using .loc[row_indexer,col_indexer] = value instead\n",
            "\n",
            "See the caveats in the documentation: https://pandas.pydata.org/pandas-docs/stable/user_guide/indexing.html#returning-a-view-versus-a-copy\n",
            "  repo_train_set[\"text\"] = repo_train_set[\"text\"].values.astype(str)\n",
            "<ipython-input-8-c4abcae59a47>:10: SettingWithCopyWarning: \n",
            "A value is trying to be set on a copy of a slice from a DataFrame.\n",
            "Try using .loc[row_indexer,col_indexer] = value instead\n",
            "\n",
            "See the caveats in the documentation: https://pandas.pydata.org/pandas-docs/stable/user_guide/indexing.html#returning-a-view-versus-a-copy\n",
            "  repo_test_set[\"text\"] = repo_test_set[\"text\"].values.astype(str)\n"
          ]
        }
      ]
    },
    {
      "cell_type": "markdown",
      "source": [
        "### Displaying the results"
      ],
      "metadata": {
        "id": "fNn5y4hpgvVc"
      }
    },
    {
      "cell_type": "code",
      "source": [
        "import json\n",
        "\n",
        "for repo in unique_repo_values:\n",
        "    print(repo)\n",
        "    print(json.dumps(xgboost_results[repo]['metrics'], indent=4))"
      ],
      "metadata": {
        "colab": {
          "base_uri": "https://localhost:8080/"
        },
        "id": "LEQPjN62jNG2",
        "outputId": "83357acd-feb9-45d4-ecd4-03bdc17f1208"
      },
      "execution_count": 9,
      "outputs": [
        {
          "output_type": "stream",
          "name": "stdout",
          "text": [
            "microsoft/vscode\n",
            "{\n",
            "    \"0\": {\n",
            "        \"precision\": 0.572463768115942,\n",
            "        \"recall\": 0.79,\n",
            "        \"f1-score\": 0.6638655462184875,\n",
            "        \"support\": 100\n",
            "    },\n",
            "    \"1\": {\n",
            "        \"precision\": 0.6666666666666666,\n",
            "        \"recall\": 0.44,\n",
            "        \"f1-score\": 0.5301204819277109,\n",
            "        \"support\": 100\n",
            "    },\n",
            "    \"2\": {\n",
            "        \"precision\": 0.7291666666666666,\n",
            "        \"recall\": 0.7,\n",
            "        \"f1-score\": 0.7142857142857142,\n",
            "        \"support\": 100\n",
            "    },\n",
            "    \"accuracy\": 0.6433333333333333,\n",
            "    \"macro avg\": {\n",
            "        \"precision\": 0.6560990338164251,\n",
            "        \"recall\": 0.6433333333333333,\n",
            "        \"f1-score\": 0.6360905808106375,\n",
            "        \"support\": 300\n",
            "    },\n",
            "    \"weighted avg\": {\n",
            "        \"precision\": 0.656099033816425,\n",
            "        \"recall\": 0.6433333333333333,\n",
            "        \"f1-score\": 0.6360905808106375,\n",
            "        \"support\": 300\n",
            "    }\n",
            "}\n",
            "facebook/react\n",
            "{\n",
            "    \"0\": {\n",
            "        \"precision\": 0.8846153846153846,\n",
            "        \"recall\": 0.92,\n",
            "        \"f1-score\": 0.9019607843137256,\n",
            "        \"support\": 100\n",
            "    },\n",
            "    \"1\": {\n",
            "        \"precision\": 0.6403508771929824,\n",
            "        \"recall\": 0.73,\n",
            "        \"f1-score\": 0.6822429906542056,\n",
            "        \"support\": 100\n",
            "    },\n",
            "    \"2\": {\n",
            "        \"precision\": 0.6463414634146342,\n",
            "        \"recall\": 0.53,\n",
            "        \"f1-score\": 0.5824175824175825,\n",
            "        \"support\": 100\n",
            "    },\n",
            "    \"accuracy\": 0.7266666666666667,\n",
            "    \"macro avg\": {\n",
            "        \"precision\": 0.7237692417410004,\n",
            "        \"recall\": 0.7266666666666666,\n",
            "        \"f1-score\": 0.7222071191285045,\n",
            "        \"support\": 300\n",
            "    },\n",
            "    \"weighted avg\": {\n",
            "        \"precision\": 0.7237692417410003,\n",
            "        \"recall\": 0.7266666666666667,\n",
            "        \"f1-score\": 0.7222071191285044,\n",
            "        \"support\": 300\n",
            "    }\n",
            "}\n",
            "opencv/opencv\n",
            "{\n",
            "    \"0\": {\n",
            "        \"precision\": 0.5185185185185185,\n",
            "        \"recall\": 0.56,\n",
            "        \"f1-score\": 0.5384615384615384,\n",
            "        \"support\": 100\n",
            "    },\n",
            "    \"1\": {\n",
            "        \"precision\": 0.6774193548387096,\n",
            "        \"recall\": 0.63,\n",
            "        \"f1-score\": 0.6528497409326425,\n",
            "        \"support\": 100\n",
            "    },\n",
            "    \"2\": {\n",
            "        \"precision\": 0.6666666666666666,\n",
            "        \"recall\": 0.66,\n",
            "        \"f1-score\": 0.6633165829145728,\n",
            "        \"support\": 100\n",
            "    },\n",
            "    \"accuracy\": 0.6166666666666667,\n",
            "    \"macro avg\": {\n",
            "        \"precision\": 0.6208681800079648,\n",
            "        \"recall\": 0.6166666666666667,\n",
            "        \"f1-score\": 0.6182092874362513,\n",
            "        \"support\": 300\n",
            "    },\n",
            "    \"weighted avg\": {\n",
            "        \"precision\": 0.6208681800079648,\n",
            "        \"recall\": 0.6166666666666667,\n",
            "        \"f1-score\": 0.6182092874362514,\n",
            "        \"support\": 300\n",
            "    }\n",
            "}\n",
            "tensorflow/tensorflow\n",
            "{\n",
            "    \"0\": {\n",
            "        \"precision\": 0.8421052631578947,\n",
            "        \"recall\": 0.8,\n",
            "        \"f1-score\": 0.8205128205128205,\n",
            "        \"support\": 100\n",
            "    },\n",
            "    \"1\": {\n",
            "        \"precision\": 0.8160919540229885,\n",
            "        \"recall\": 0.71,\n",
            "        \"f1-score\": 0.7593582887700535,\n",
            "        \"support\": 100\n",
            "    },\n",
            "    \"2\": {\n",
            "        \"precision\": 0.6271186440677966,\n",
            "        \"recall\": 0.74,\n",
            "        \"f1-score\": 0.6788990825688074,\n",
            "        \"support\": 100\n",
            "    },\n",
            "    \"accuracy\": 0.75,\n",
            "    \"macro avg\": {\n",
            "        \"precision\": 0.7617719537495599,\n",
            "        \"recall\": 0.75,\n",
            "        \"f1-score\": 0.7529233972838938,\n",
            "        \"support\": 300\n",
            "    },\n",
            "    \"weighted avg\": {\n",
            "        \"precision\": 0.7617719537495599,\n",
            "        \"recall\": 0.75,\n",
            "        \"f1-score\": 0.7529233972838938,\n",
            "        \"support\": 300\n",
            "    }\n",
            "}\n",
            "bitcoin/bitcoin\n",
            "{\n",
            "    \"0\": {\n",
            "        \"precision\": 0.5190839694656488,\n",
            "        \"recall\": 0.68,\n",
            "        \"f1-score\": 0.5887445887445887,\n",
            "        \"support\": 100\n",
            "    },\n",
            "    \"1\": {\n",
            "        \"precision\": 0.7102803738317757,\n",
            "        \"recall\": 0.76,\n",
            "        \"f1-score\": 0.7342995169082127,\n",
            "        \"support\": 100\n",
            "    },\n",
            "    \"2\": {\n",
            "        \"precision\": 0.532258064516129,\n",
            "        \"recall\": 0.33,\n",
            "        \"f1-score\": 0.40740740740740733,\n",
            "        \"support\": 100\n",
            "    },\n",
            "    \"accuracy\": 0.59,\n",
            "    \"macro avg\": {\n",
            "        \"precision\": 0.5872074692711845,\n",
            "        \"recall\": 0.59,\n",
            "        \"f1-score\": 0.5768171710200697,\n",
            "        \"support\": 300\n",
            "    },\n",
            "    \"weighted avg\": {\n",
            "        \"precision\": 0.5872074692711845,\n",
            "        \"recall\": 0.59,\n",
            "        \"f1-score\": 0.5768171710200696,\n",
            "        \"support\": 300\n",
            "    }\n",
            "}\n"
          ]
        }
      ]
    },
    {
      "cell_type": "code",
      "source": [
        "class_metrics_sum = defaultdict(defaultdict)\n",
        "labels = [key for key in xgboost_results[unique_repo_values[0]]['metrics'].keys() if key.isnumeric()]\n",
        "\n",
        "for repo in unique_repo_values:\n",
        "    for label in labels:\n",
        "        for metric in xgboost_results[repo]['metrics'][label]:\n",
        "            class_metrics_sum[label][metric] = class_metrics_sum[label].get(metric, 0) + xgboost_results[repo]['metrics'][label][metric]\n",
        "\n",
        "class_metrics_avg = {\n",
        "    label: {\n",
        "        metric: class_metrics_sum[label][metric] / len(unique_repo_values)\n",
        "        for metric in class_metrics_sum[label]\n",
        "    }\n",
        "    for label in labels\n",
        "}\n",
        "\n",
        "# add the average of the metric over all classes\n",
        "class_metrics_avg['average'] = {\n",
        "    metric: sum(class_metrics_avg[label][metric] for label in labels)\n",
        "    / len(labels)\n",
        "    for metric in class_metrics_avg[labels[0]]\n",
        "}\n",
        "\n",
        "# add to the xgboost_results\n",
        "xgboost_results['overall'] = {\n",
        "    'metrics': class_metrics_avg\n",
        "}\n"
      ],
      "metadata": {
        "id": "t1yZJ5Hy0HwS"
      },
      "execution_count": 10,
      "outputs": []
    },
    {
      "cell_type": "markdown",
      "source": [
        "### Saving the results"
      ],
      "metadata": {
        "id": "puW-1VaNgo72"
      }
    },
    {
      "cell_type": "code",
      "source": [
        "import os\n",
        "\n",
        "output_file_name = 'xgboost_results.json'\n",
        "with open(output_file_name, 'w') as fp:\n",
        "    json.dump(xgboost_results, fp)"
      ],
      "metadata": {
        "id": "QDxA_NGF1hgx"
      },
      "execution_count": 11,
      "outputs": []
    },
    {
      "cell_type": "markdown",
      "source": [
        "## Random Forest Classifier"
      ],
      "metadata": {
        "id": "1RsDsYKU3Xie"
      }
    },
    {
      "cell_type": "markdown",
      "source": [
        "### Importing necessary libraries"
      ],
      "metadata": {
        "id": "UdrgrtTWg083"
      }
    },
    {
      "cell_type": "code",
      "source": [
        "# importing necessary libraries\n",
        "import numpy as np\n",
        "import pandas as pd\n",
        "from sklearn.model_selection import train_test_split\n",
        "from sklearn.preprocessing import StandardScaler\n",
        "from sklearn.ensemble import RandomForestClassifier\n",
        "from sklearn.metrics import confusion_matrix"
      ],
      "metadata": {
        "id": "KZtYVPEN1sFY"
      },
      "execution_count": 12,
      "outputs": []
    },
    {
      "cell_type": "markdown",
      "source": [
        "### Loading the datasets"
      ],
      "metadata": {
        "id": "WDU_rgozg7pD"
      }
    },
    {
      "cell_type": "code",
      "source": [
        "train_file_path = r\"https://github.com/lhamu/issue-report-classification/raw/main/preprocessed_data/preprocessed_issues_train.csv\"\n",
        "test_file_path = r\"https://github.com/lhamu/issue-report-classification/raw/main/preprocessed_data/preprocessed_issues_test.csv\""
      ],
      "metadata": {
        "id": "vEK0W5wfg-f0"
      },
      "execution_count": 13,
      "outputs": []
    },
    {
      "cell_type": "code",
      "source": [
        "train_set = pd.read_csv(train_file_path)\n",
        "test_set = pd.read_csv(test_file_path)"
      ],
      "metadata": {
        "id": "u08brdk534MP"
      },
      "execution_count": 14,
      "outputs": []
    },
    {
      "cell_type": "code",
      "source": [
        "train_set = train_set.rename(columns={\"issue_text\": \"text\"})\n",
        "test_set = test_set.rename(columns={\"issue_text\": \"text\"})\n",
        "train_set.columns"
      ],
      "metadata": {
        "colab": {
          "base_uri": "https://localhost:8080/"
        },
        "id": "mwX8xABN4BD9",
        "outputId": "5b5fe7f9-e4a6-4022-9e9a-a653a2002563"
      },
      "execution_count": 15,
      "outputs": [
        {
          "output_type": "execute_result",
          "data": {
            "text/plain": [
              "Index(['repo', 'text', 'label'], dtype='object')"
            ]
          },
          "metadata": {},
          "execution_count": 15
        }
      ]
    },
    {
      "cell_type": "code",
      "source": [
        "unique_repo_values = list(set(train_set[\"repo\"]))\n",
        "unique_repo_values"
      ],
      "metadata": {
        "colab": {
          "base_uri": "https://localhost:8080/"
        },
        "id": "b8DDpVBT4Oo3",
        "outputId": "bf931239-2a75-4ad9-a250-118d11d54a44"
      },
      "execution_count": 16,
      "outputs": [
        {
          "output_type": "execute_result",
          "data": {
            "text/plain": [
              "['microsoft/vscode',\n",
              " 'facebook/react',\n",
              " 'opencv/opencv',\n",
              " 'tensorflow/tensorflow',\n",
              " 'bitcoin/bitcoin']"
            ]
          },
          "metadata": {},
          "execution_count": 16
        }
      ]
    },
    {
      "cell_type": "markdown",
      "source": [
        "### Training and Inference"
      ],
      "metadata": {
        "id": "lqwVp01ihEy_"
      }
    },
    {
      "cell_type": "code",
      "source": [
        "from collections import defaultdict\n",
        "from sklearn.metrics import classification_report\n",
        "from sklearn.feature_extraction.text import TfidfVectorizer\n",
        "\n",
        "results = defaultdict(dict)\n",
        "for repo in unique_repo_values:\n",
        "    repo_train_set = train_set[train_set['repo']==repo]\n",
        "    repo_train_set[\"text\"] = repo_train_set[\"text\"].values.astype(str)\n",
        "    print(repo_train_set.dtypes)\n",
        "    repo_test_set = test_set[test_set['repo']==repo]\n",
        "    repo_test_set[\"text\"] = repo_test_set[\"text\"].values.astype(str)\n",
        "    vectorizer = TfidfVectorizer()\n",
        "    X_train = repo_train_set[\"text\"]\n",
        "    X_train = vectorizer.fit_transform(X_train)\n",
        "    y_train = repo_train_set[\"label\"]\n",
        "    X_test = repo_test_set[\"text\"]\n",
        "    X_test = vectorizer.transform(X_test)\n",
        "    y_test = repo_test_set[\"label\"]\n",
        "    rf_classifier = RandomForestClassifier(n_estimators=10, criterion='entropy', random_state=42)\n",
        "    rf_classifier.fit(X_train, y_train)\n",
        "    predictions = rf_classifier.predict(X_test)\n",
        "    results[repo]['metrics'] = classification_report(repo_test_set['label'], predictions, digits=4, output_dict=True)\n",
        "    results[repo]['predictions'] = predictions.tolist()"
      ],
      "metadata": {
        "colab": {
          "base_uri": "https://localhost:8080/"
        },
        "id": "lqn4IGEy4CLn",
        "outputId": "8a4f0046-1858-4332-e08a-85fba3902ebe"
      },
      "execution_count": 17,
      "outputs": [
        {
          "output_type": "stream",
          "name": "stderr",
          "text": [
            "<ipython-input-17-b8e8a43290d1>:8: SettingWithCopyWarning: \n",
            "A value is trying to be set on a copy of a slice from a DataFrame.\n",
            "Try using .loc[row_indexer,col_indexer] = value instead\n",
            "\n",
            "See the caveats in the documentation: https://pandas.pydata.org/pandas-docs/stable/user_guide/indexing.html#returning-a-view-versus-a-copy\n",
            "  repo_train_set[\"text\"] = repo_train_set[\"text\"].values.astype(str)\n",
            "<ipython-input-17-b8e8a43290d1>:11: SettingWithCopyWarning: \n",
            "A value is trying to be set on a copy of a slice from a DataFrame.\n",
            "Try using .loc[row_indexer,col_indexer] = value instead\n",
            "\n",
            "See the caveats in the documentation: https://pandas.pydata.org/pandas-docs/stable/user_guide/indexing.html#returning-a-view-versus-a-copy\n",
            "  repo_test_set[\"text\"] = repo_test_set[\"text\"].values.astype(str)\n"
          ]
        },
        {
          "output_type": "stream",
          "name": "stdout",
          "text": [
            "repo     object\n",
            "text     object\n",
            "label     int64\n",
            "dtype: object\n"
          ]
        },
        {
          "output_type": "stream",
          "name": "stderr",
          "text": [
            "<ipython-input-17-b8e8a43290d1>:8: SettingWithCopyWarning: \n",
            "A value is trying to be set on a copy of a slice from a DataFrame.\n",
            "Try using .loc[row_indexer,col_indexer] = value instead\n",
            "\n",
            "See the caveats in the documentation: https://pandas.pydata.org/pandas-docs/stable/user_guide/indexing.html#returning-a-view-versus-a-copy\n",
            "  repo_train_set[\"text\"] = repo_train_set[\"text\"].values.astype(str)\n",
            "<ipython-input-17-b8e8a43290d1>:11: SettingWithCopyWarning: \n",
            "A value is trying to be set on a copy of a slice from a DataFrame.\n",
            "Try using .loc[row_indexer,col_indexer] = value instead\n",
            "\n",
            "See the caveats in the documentation: https://pandas.pydata.org/pandas-docs/stable/user_guide/indexing.html#returning-a-view-versus-a-copy\n",
            "  repo_test_set[\"text\"] = repo_test_set[\"text\"].values.astype(str)\n"
          ]
        },
        {
          "output_type": "stream",
          "name": "stdout",
          "text": [
            "repo     object\n",
            "text     object\n",
            "label     int64\n",
            "dtype: object\n"
          ]
        },
        {
          "output_type": "stream",
          "name": "stderr",
          "text": [
            "<ipython-input-17-b8e8a43290d1>:8: SettingWithCopyWarning: \n",
            "A value is trying to be set on a copy of a slice from a DataFrame.\n",
            "Try using .loc[row_indexer,col_indexer] = value instead\n",
            "\n",
            "See the caveats in the documentation: https://pandas.pydata.org/pandas-docs/stable/user_guide/indexing.html#returning-a-view-versus-a-copy\n",
            "  repo_train_set[\"text\"] = repo_train_set[\"text\"].values.astype(str)\n"
          ]
        },
        {
          "output_type": "stream",
          "name": "stdout",
          "text": [
            "repo     object\n",
            "text     object\n",
            "label     int64\n",
            "dtype: object\n"
          ]
        },
        {
          "output_type": "stream",
          "name": "stderr",
          "text": [
            "<ipython-input-17-b8e8a43290d1>:11: SettingWithCopyWarning: \n",
            "A value is trying to be set on a copy of a slice from a DataFrame.\n",
            "Try using .loc[row_indexer,col_indexer] = value instead\n",
            "\n",
            "See the caveats in the documentation: https://pandas.pydata.org/pandas-docs/stable/user_guide/indexing.html#returning-a-view-versus-a-copy\n",
            "  repo_test_set[\"text\"] = repo_test_set[\"text\"].values.astype(str)\n",
            "<ipython-input-17-b8e8a43290d1>:8: SettingWithCopyWarning: \n",
            "A value is trying to be set on a copy of a slice from a DataFrame.\n",
            "Try using .loc[row_indexer,col_indexer] = value instead\n",
            "\n",
            "See the caveats in the documentation: https://pandas.pydata.org/pandas-docs/stable/user_guide/indexing.html#returning-a-view-versus-a-copy\n",
            "  repo_train_set[\"text\"] = repo_train_set[\"text\"].values.astype(str)\n"
          ]
        },
        {
          "output_type": "stream",
          "name": "stdout",
          "text": [
            "repo     object\n",
            "text     object\n",
            "label     int64\n",
            "dtype: object\n"
          ]
        },
        {
          "output_type": "stream",
          "name": "stderr",
          "text": [
            "<ipython-input-17-b8e8a43290d1>:11: SettingWithCopyWarning: \n",
            "A value is trying to be set on a copy of a slice from a DataFrame.\n",
            "Try using .loc[row_indexer,col_indexer] = value instead\n",
            "\n",
            "See the caveats in the documentation: https://pandas.pydata.org/pandas-docs/stable/user_guide/indexing.html#returning-a-view-versus-a-copy\n",
            "  repo_test_set[\"text\"] = repo_test_set[\"text\"].values.astype(str)\n",
            "<ipython-input-17-b8e8a43290d1>:8: SettingWithCopyWarning: \n",
            "A value is trying to be set on a copy of a slice from a DataFrame.\n",
            "Try using .loc[row_indexer,col_indexer] = value instead\n",
            "\n",
            "See the caveats in the documentation: https://pandas.pydata.org/pandas-docs/stable/user_guide/indexing.html#returning-a-view-versus-a-copy\n",
            "  repo_train_set[\"text\"] = repo_train_set[\"text\"].values.astype(str)\n",
            "<ipython-input-17-b8e8a43290d1>:11: SettingWithCopyWarning: \n",
            "A value is trying to be set on a copy of a slice from a DataFrame.\n",
            "Try using .loc[row_indexer,col_indexer] = value instead\n",
            "\n",
            "See the caveats in the documentation: https://pandas.pydata.org/pandas-docs/stable/user_guide/indexing.html#returning-a-view-versus-a-copy\n",
            "  repo_test_set[\"text\"] = repo_test_set[\"text\"].values.astype(str)\n"
          ]
        },
        {
          "output_type": "stream",
          "name": "stdout",
          "text": [
            "repo     object\n",
            "text     object\n",
            "label     int64\n",
            "dtype: object\n"
          ]
        }
      ]
    },
    {
      "cell_type": "markdown",
      "source": [
        "### Displaying the results"
      ],
      "metadata": {
        "id": "ivyuKU3zhH05"
      }
    },
    {
      "cell_type": "code",
      "source": [
        "import json\n",
        "\n",
        "for repo in unique_repo_values:\n",
        "    print(repo)\n",
        "    print(json.dumps(results[repo]['metrics'], indent=4))"
      ],
      "metadata": {
        "id": "fiwjeWDT4rOM",
        "colab": {
          "base_uri": "https://localhost:8080/"
        },
        "outputId": "14df341b-9b99-4c4d-9e6c-4ce5fbf65ab0"
      },
      "execution_count": 18,
      "outputs": [
        {
          "output_type": "stream",
          "name": "stdout",
          "text": [
            "microsoft/vscode\n",
            "{\n",
            "    \"0\": {\n",
            "        \"precision\": 0.5737704918032787,\n",
            "        \"recall\": 0.7,\n",
            "        \"f1-score\": 0.6306306306306306,\n",
            "        \"support\": 100\n",
            "    },\n",
            "    \"1\": {\n",
            "        \"precision\": 0.625,\n",
            "        \"recall\": 0.5,\n",
            "        \"f1-score\": 0.5555555555555556,\n",
            "        \"support\": 100\n",
            "    },\n",
            "    \"2\": {\n",
            "        \"precision\": 0.6938775510204082,\n",
            "        \"recall\": 0.68,\n",
            "        \"f1-score\": 0.686868686868687,\n",
            "        \"support\": 100\n",
            "    },\n",
            "    \"accuracy\": 0.6266666666666667,\n",
            "    \"macro avg\": {\n",
            "        \"precision\": 0.6308826809412289,\n",
            "        \"recall\": 0.6266666666666666,\n",
            "        \"f1-score\": 0.6243516243516244,\n",
            "        \"support\": 300\n",
            "    },\n",
            "    \"weighted avg\": {\n",
            "        \"precision\": 0.6308826809412289,\n",
            "        \"recall\": 0.6266666666666667,\n",
            "        \"f1-score\": 0.6243516243516244,\n",
            "        \"support\": 300\n",
            "    }\n",
            "}\n",
            "facebook/react\n",
            "{\n",
            "    \"0\": {\n",
            "        \"precision\": 0.9134615384615384,\n",
            "        \"recall\": 0.95,\n",
            "        \"f1-score\": 0.9313725490196078,\n",
            "        \"support\": 100\n",
            "    },\n",
            "    \"1\": {\n",
            "        \"precision\": 0.6434782608695652,\n",
            "        \"recall\": 0.74,\n",
            "        \"f1-score\": 0.6883720930232557,\n",
            "        \"support\": 100\n",
            "    },\n",
            "    \"2\": {\n",
            "        \"precision\": 0.6419753086419753,\n",
            "        \"recall\": 0.52,\n",
            "        \"f1-score\": 0.574585635359116,\n",
            "        \"support\": 100\n",
            "    },\n",
            "    \"accuracy\": 0.7366666666666667,\n",
            "    \"macro avg\": {\n",
            "        \"precision\": 0.732971702657693,\n",
            "        \"recall\": 0.7366666666666667,\n",
            "        \"f1-score\": 0.7314434258006598,\n",
            "        \"support\": 300\n",
            "    },\n",
            "    \"weighted avg\": {\n",
            "        \"precision\": 0.732971702657693,\n",
            "        \"recall\": 0.7366666666666667,\n",
            "        \"f1-score\": 0.7314434258006598,\n",
            "        \"support\": 300\n",
            "    }\n",
            "}\n",
            "opencv/opencv\n",
            "{\n",
            "    \"0\": {\n",
            "        \"precision\": 0.5688073394495413,\n",
            "        \"recall\": 0.62,\n",
            "        \"f1-score\": 0.5933014354066987,\n",
            "        \"support\": 100\n",
            "    },\n",
            "    \"1\": {\n",
            "        \"precision\": 0.7045454545454546,\n",
            "        \"recall\": 0.62,\n",
            "        \"f1-score\": 0.6595744680851063,\n",
            "        \"support\": 100\n",
            "    },\n",
            "    \"2\": {\n",
            "        \"precision\": 0.6601941747572816,\n",
            "        \"recall\": 0.68,\n",
            "        \"f1-score\": 0.6699507389162562,\n",
            "        \"support\": 100\n",
            "    },\n",
            "    \"accuracy\": 0.64,\n",
            "    \"macro avg\": {\n",
            "        \"precision\": 0.6445156562507592,\n",
            "        \"recall\": 0.64,\n",
            "        \"f1-score\": 0.6409422141360204,\n",
            "        \"support\": 300\n",
            "    },\n",
            "    \"weighted avg\": {\n",
            "        \"precision\": 0.6445156562507591,\n",
            "        \"recall\": 0.64,\n",
            "        \"f1-score\": 0.6409422141360204,\n",
            "        \"support\": 300\n",
            "    }\n",
            "}\n",
            "tensorflow/tensorflow\n",
            "{\n",
            "    \"0\": {\n",
            "        \"precision\": 0.75,\n",
            "        \"recall\": 0.81,\n",
            "        \"f1-score\": 0.7788461538461539,\n",
            "        \"support\": 100\n",
            "    },\n",
            "    \"1\": {\n",
            "        \"precision\": 0.7087378640776699,\n",
            "        \"recall\": 0.73,\n",
            "        \"f1-score\": 0.7192118226600985,\n",
            "        \"support\": 100\n",
            "    },\n",
            "    \"2\": {\n",
            "        \"precision\": 0.550561797752809,\n",
            "        \"recall\": 0.49,\n",
            "        \"f1-score\": 0.5185185185185186,\n",
            "        \"support\": 100\n",
            "    },\n",
            "    \"accuracy\": 0.6766666666666666,\n",
            "    \"macro avg\": {\n",
            "        \"precision\": 0.6697665539434929,\n",
            "        \"recall\": 0.6766666666666667,\n",
            "        \"f1-score\": 0.6721921650082571,\n",
            "        \"support\": 300\n",
            "    },\n",
            "    \"weighted avg\": {\n",
            "        \"precision\": 0.6697665539434929,\n",
            "        \"recall\": 0.6766666666666666,\n",
            "        \"f1-score\": 0.6721921650082571,\n",
            "        \"support\": 300\n",
            "    }\n",
            "}\n",
            "bitcoin/bitcoin\n",
            "{\n",
            "    \"0\": {\n",
            "        \"precision\": 0.56,\n",
            "        \"recall\": 0.7,\n",
            "        \"f1-score\": 0.6222222222222222,\n",
            "        \"support\": 100\n",
            "    },\n",
            "    \"1\": {\n",
            "        \"precision\": 0.6826923076923077,\n",
            "        \"recall\": 0.71,\n",
            "        \"f1-score\": 0.696078431372549,\n",
            "        \"support\": 100\n",
            "    },\n",
            "    \"2\": {\n",
            "        \"precision\": 0.5774647887323944,\n",
            "        \"recall\": 0.41,\n",
            "        \"f1-score\": 0.47953216374269003,\n",
            "        \"support\": 100\n",
            "    },\n",
            "    \"accuracy\": 0.6066666666666667,\n",
            "    \"macro avg\": {\n",
            "        \"precision\": 0.6067190321415673,\n",
            "        \"recall\": 0.6066666666666666,\n",
            "        \"f1-score\": 0.5992776057791538,\n",
            "        \"support\": 300\n",
            "    },\n",
            "    \"weighted avg\": {\n",
            "        \"precision\": 0.6067190321415673,\n",
            "        \"recall\": 0.6066666666666667,\n",
            "        \"f1-score\": 0.5992776057791538,\n",
            "        \"support\": 300\n",
            "    }\n",
            "}\n"
          ]
        }
      ]
    },
    {
      "cell_type": "code",
      "source": [
        "class_metrics_sum = defaultdict(defaultdict)\n",
        "labels = [key for key in results[unique_repo_values[0]]['metrics'].keys() if key.isnumeric()]\n",
        "\n",
        "for repo in unique_repo_values:\n",
        "    for label in labels:\n",
        "        for metric in results[repo]['metrics'][label]:\n",
        "            class_metrics_sum[label][metric] = class_metrics_sum[label].get(metric, 0) + results[repo]['metrics'][label][metric]\n",
        "\n",
        "class_metrics_avg = {\n",
        "    label: {\n",
        "        metric: class_metrics_sum[label][metric] / len(unique_repo_values)\n",
        "        for metric in class_metrics_sum[label]\n",
        "    }\n",
        "    for label in labels\n",
        "}\n",
        "\n",
        "# add the average of the metric over all classes\n",
        "class_metrics_avg['average'] = {\n",
        "    metric: sum(class_metrics_avg[label][metric] for label in labels)\n",
        "    / len(labels)\n",
        "    for metric in class_metrics_avg[labels[0]]\n",
        "}\n",
        "\n",
        "# add to the results\n",
        "results['overall'] = {\n",
        "    'metrics': class_metrics_avg\n",
        "}"
      ],
      "metadata": {
        "id": "NYX6pOeX59to"
      },
      "execution_count": 19,
      "outputs": []
    },
    {
      "cell_type": "markdown",
      "source": [
        "### Saving the results"
      ],
      "metadata": {
        "id": "LxQKwJTnhMa3"
      }
    },
    {
      "cell_type": "code",
      "source": [
        "import os\n",
        "\n",
        "output_file_name = 'random_forest_results.json'\n",
        "with open(output_file_name, 'w') as fp:\n",
        "    json.dump(results, fp)"
      ],
      "metadata": {
        "id": "DtyYKJmP6Blm"
      },
      "execution_count": 20,
      "outputs": []
    },
    {
      "cell_type": "markdown",
      "source": [
        "## Comparing with the State-of-the-Art"
      ],
      "metadata": {
        "id": "SFYhdUejhbJn"
      }
    },
    {
      "cell_type": "code",
      "source": [
        "import urllib.request\n",
        "\n",
        "your_url = 'https://github.com/nlbse2024/issue-report-classification/raw/main/output/results.json'\n",
        "with urllib.request.urlopen(your_url) as url:\n",
        "    sota_data = json.loads(url.read().decode())"
      ],
      "metadata": {
        "id": "3URXy6QMhfp9"
      },
      "execution_count": 21,
      "outputs": []
    },
    {
      "cell_type": "code",
      "source": [
        "comparison_data = []\n",
        "\n",
        "comparison_data.append(xgboost_results[\"overall\"][\"metrics\"][\"average\"])\n",
        "comparison_data[-1][\"process\"] = \"XGBoost\"\n",
        "comparison_data.append(results[\"overall\"][\"metrics\"][\"average\"])\n",
        "comparison_data[-1][\"process\"] = \"Random Forest\"\n",
        "comparison_data.append(sota_data[\"overall\"][\"metrics\"][\"average\"])\n",
        "comparison_data[-1][\"process\"] = \"SOTA\"\n",
        "\n",
        "comparison_df = pd.DataFrame(comparison_data)\n",
        "comparison_df"
      ],
      "metadata": {
        "colab": {
          "base_uri": "https://localhost:8080/",
          "height": 143
        },
        "id": "zoUy8f1Bhg1i",
        "outputId": "7a785256-47f6-4a2e-fe7f-4be80957dea4"
      },
      "execution_count": 22,
      "outputs": [
        {
          "output_type": "execute_result",
          "data": {
            "text/plain": [
              "   precision    recall  f1-score  support        process\n",
              "0   0.669943  0.665333  0.661250    100.0        XGBoost\n",
              "1   0.656971  0.657333  0.653641    100.0  Random Forest\n",
              "2   0.830455  0.826667  0.827046    100.0           SOTA"
            ],
            "text/html": [
              "\n",
              "  <div id=\"df-6908b960-9297-46cb-bcbc-b6b19cb8a34b\" class=\"colab-df-container\">\n",
              "    <div>\n",
              "<style scoped>\n",
              "    .dataframe tbody tr th:only-of-type {\n",
              "        vertical-align: middle;\n",
              "    }\n",
              "\n",
              "    .dataframe tbody tr th {\n",
              "        vertical-align: top;\n",
              "    }\n",
              "\n",
              "    .dataframe thead th {\n",
              "        text-align: right;\n",
              "    }\n",
              "</style>\n",
              "<table border=\"1\" class=\"dataframe\">\n",
              "  <thead>\n",
              "    <tr style=\"text-align: right;\">\n",
              "      <th></th>\n",
              "      <th>precision</th>\n",
              "      <th>recall</th>\n",
              "      <th>f1-score</th>\n",
              "      <th>support</th>\n",
              "      <th>process</th>\n",
              "    </tr>\n",
              "  </thead>\n",
              "  <tbody>\n",
              "    <tr>\n",
              "      <th>0</th>\n",
              "      <td>0.669943</td>\n",
              "      <td>0.665333</td>\n",
              "      <td>0.661250</td>\n",
              "      <td>100.0</td>\n",
              "      <td>XGBoost</td>\n",
              "    </tr>\n",
              "    <tr>\n",
              "      <th>1</th>\n",
              "      <td>0.656971</td>\n",
              "      <td>0.657333</td>\n",
              "      <td>0.653641</td>\n",
              "      <td>100.0</td>\n",
              "      <td>Random Forest</td>\n",
              "    </tr>\n",
              "    <tr>\n",
              "      <th>2</th>\n",
              "      <td>0.830455</td>\n",
              "      <td>0.826667</td>\n",
              "      <td>0.827046</td>\n",
              "      <td>100.0</td>\n",
              "      <td>SOTA</td>\n",
              "    </tr>\n",
              "  </tbody>\n",
              "</table>\n",
              "</div>\n",
              "    <div class=\"colab-df-buttons\">\n",
              "\n",
              "  <div class=\"colab-df-container\">\n",
              "    <button class=\"colab-df-convert\" onclick=\"convertToInteractive('df-6908b960-9297-46cb-bcbc-b6b19cb8a34b')\"\n",
              "            title=\"Convert this dataframe to an interactive table.\"\n",
              "            style=\"display:none;\">\n",
              "\n",
              "  <svg xmlns=\"http://www.w3.org/2000/svg\" height=\"24px\" viewBox=\"0 -960 960 960\">\n",
              "    <path d=\"M120-120v-720h720v720H120Zm60-500h600v-160H180v160Zm220 220h160v-160H400v160Zm0 220h160v-160H400v160ZM180-400h160v-160H180v160Zm440 0h160v-160H620v160ZM180-180h160v-160H180v160Zm440 0h160v-160H620v160Z\"/>\n",
              "  </svg>\n",
              "    </button>\n",
              "\n",
              "  <style>\n",
              "    .colab-df-container {\n",
              "      display:flex;\n",
              "      gap: 12px;\n",
              "    }\n",
              "\n",
              "    .colab-df-convert {\n",
              "      background-color: #E8F0FE;\n",
              "      border: none;\n",
              "      border-radius: 50%;\n",
              "      cursor: pointer;\n",
              "      display: none;\n",
              "      fill: #1967D2;\n",
              "      height: 32px;\n",
              "      padding: 0 0 0 0;\n",
              "      width: 32px;\n",
              "    }\n",
              "\n",
              "    .colab-df-convert:hover {\n",
              "      background-color: #E2EBFA;\n",
              "      box-shadow: 0px 1px 2px rgba(60, 64, 67, 0.3), 0px 1px 3px 1px rgba(60, 64, 67, 0.15);\n",
              "      fill: #174EA6;\n",
              "    }\n",
              "\n",
              "    .colab-df-buttons div {\n",
              "      margin-bottom: 4px;\n",
              "    }\n",
              "\n",
              "    [theme=dark] .colab-df-convert {\n",
              "      background-color: #3B4455;\n",
              "      fill: #D2E3FC;\n",
              "    }\n",
              "\n",
              "    [theme=dark] .colab-df-convert:hover {\n",
              "      background-color: #434B5C;\n",
              "      box-shadow: 0px 1px 3px 1px rgba(0, 0, 0, 0.15);\n",
              "      filter: drop-shadow(0px 1px 2px rgba(0, 0, 0, 0.3));\n",
              "      fill: #FFFFFF;\n",
              "    }\n",
              "  </style>\n",
              "\n",
              "    <script>\n",
              "      const buttonEl =\n",
              "        document.querySelector('#df-6908b960-9297-46cb-bcbc-b6b19cb8a34b button.colab-df-convert');\n",
              "      buttonEl.style.display =\n",
              "        google.colab.kernel.accessAllowed ? 'block' : 'none';\n",
              "\n",
              "      async function convertToInteractive(key) {\n",
              "        const element = document.querySelector('#df-6908b960-9297-46cb-bcbc-b6b19cb8a34b');\n",
              "        const dataTable =\n",
              "          await google.colab.kernel.invokeFunction('convertToInteractive',\n",
              "                                                    [key], {});\n",
              "        if (!dataTable) return;\n",
              "\n",
              "        const docLinkHtml = 'Like what you see? Visit the ' +\n",
              "          '<a target=\"_blank\" href=https://colab.research.google.com/notebooks/data_table.ipynb>data table notebook</a>'\n",
              "          + ' to learn more about interactive tables.';\n",
              "        element.innerHTML = '';\n",
              "        dataTable['output_type'] = 'display_data';\n",
              "        await google.colab.output.renderOutput(dataTable, element);\n",
              "        const docLink = document.createElement('div');\n",
              "        docLink.innerHTML = docLinkHtml;\n",
              "        element.appendChild(docLink);\n",
              "      }\n",
              "    </script>\n",
              "  </div>\n",
              "\n",
              "\n",
              "<div id=\"df-7ea163eb-9582-4154-8ef8-c8e45e698426\">\n",
              "  <button class=\"colab-df-quickchart\" onclick=\"quickchart('df-7ea163eb-9582-4154-8ef8-c8e45e698426')\"\n",
              "            title=\"Suggest charts\"\n",
              "            style=\"display:none;\">\n",
              "\n",
              "<svg xmlns=\"http://www.w3.org/2000/svg\" height=\"24px\"viewBox=\"0 0 24 24\"\n",
              "     width=\"24px\">\n",
              "    <g>\n",
              "        <path d=\"M19 3H5c-1.1 0-2 .9-2 2v14c0 1.1.9 2 2 2h14c1.1 0 2-.9 2-2V5c0-1.1-.9-2-2-2zM9 17H7v-7h2v7zm4 0h-2V7h2v10zm4 0h-2v-4h2v4z\"/>\n",
              "    </g>\n",
              "</svg>\n",
              "  </button>\n",
              "\n",
              "<style>\n",
              "  .colab-df-quickchart {\n",
              "      --bg-color: #E8F0FE;\n",
              "      --fill-color: #1967D2;\n",
              "      --hover-bg-color: #E2EBFA;\n",
              "      --hover-fill-color: #174EA6;\n",
              "      --disabled-fill-color: #AAA;\n",
              "      --disabled-bg-color: #DDD;\n",
              "  }\n",
              "\n",
              "  [theme=dark] .colab-df-quickchart {\n",
              "      --bg-color: #3B4455;\n",
              "      --fill-color: #D2E3FC;\n",
              "      --hover-bg-color: #434B5C;\n",
              "      --hover-fill-color: #FFFFFF;\n",
              "      --disabled-bg-color: #3B4455;\n",
              "      --disabled-fill-color: #666;\n",
              "  }\n",
              "\n",
              "  .colab-df-quickchart {\n",
              "    background-color: var(--bg-color);\n",
              "    border: none;\n",
              "    border-radius: 50%;\n",
              "    cursor: pointer;\n",
              "    display: none;\n",
              "    fill: var(--fill-color);\n",
              "    height: 32px;\n",
              "    padding: 0;\n",
              "    width: 32px;\n",
              "  }\n",
              "\n",
              "  .colab-df-quickchart:hover {\n",
              "    background-color: var(--hover-bg-color);\n",
              "    box-shadow: 0 1px 2px rgba(60, 64, 67, 0.3), 0 1px 3px 1px rgba(60, 64, 67, 0.15);\n",
              "    fill: var(--button-hover-fill-color);\n",
              "  }\n",
              "\n",
              "  .colab-df-quickchart-complete:disabled,\n",
              "  .colab-df-quickchart-complete:disabled:hover {\n",
              "    background-color: var(--disabled-bg-color);\n",
              "    fill: var(--disabled-fill-color);\n",
              "    box-shadow: none;\n",
              "  }\n",
              "\n",
              "  .colab-df-spinner {\n",
              "    border: 2px solid var(--fill-color);\n",
              "    border-color: transparent;\n",
              "    border-bottom-color: var(--fill-color);\n",
              "    animation:\n",
              "      spin 1s steps(1) infinite;\n",
              "  }\n",
              "\n",
              "  @keyframes spin {\n",
              "    0% {\n",
              "      border-color: transparent;\n",
              "      border-bottom-color: var(--fill-color);\n",
              "      border-left-color: var(--fill-color);\n",
              "    }\n",
              "    20% {\n",
              "      border-color: transparent;\n",
              "      border-left-color: var(--fill-color);\n",
              "      border-top-color: var(--fill-color);\n",
              "    }\n",
              "    30% {\n",
              "      border-color: transparent;\n",
              "      border-left-color: var(--fill-color);\n",
              "      border-top-color: var(--fill-color);\n",
              "      border-right-color: var(--fill-color);\n",
              "    }\n",
              "    40% {\n",
              "      border-color: transparent;\n",
              "      border-right-color: var(--fill-color);\n",
              "      border-top-color: var(--fill-color);\n",
              "    }\n",
              "    60% {\n",
              "      border-color: transparent;\n",
              "      border-right-color: var(--fill-color);\n",
              "    }\n",
              "    80% {\n",
              "      border-color: transparent;\n",
              "      border-right-color: var(--fill-color);\n",
              "      border-bottom-color: var(--fill-color);\n",
              "    }\n",
              "    90% {\n",
              "      border-color: transparent;\n",
              "      border-bottom-color: var(--fill-color);\n",
              "    }\n",
              "  }\n",
              "</style>\n",
              "\n",
              "  <script>\n",
              "    async function quickchart(key) {\n",
              "      const quickchartButtonEl =\n",
              "        document.querySelector('#' + key + ' button');\n",
              "      quickchartButtonEl.disabled = true;  // To prevent multiple clicks.\n",
              "      quickchartButtonEl.classList.add('colab-df-spinner');\n",
              "      try {\n",
              "        const charts = await google.colab.kernel.invokeFunction(\n",
              "            'suggestCharts', [key], {});\n",
              "      } catch (error) {\n",
              "        console.error('Error during call to suggestCharts:', error);\n",
              "      }\n",
              "      quickchartButtonEl.classList.remove('colab-df-spinner');\n",
              "      quickchartButtonEl.classList.add('colab-df-quickchart-complete');\n",
              "    }\n",
              "    (() => {\n",
              "      let quickchartButtonEl =\n",
              "        document.querySelector('#df-7ea163eb-9582-4154-8ef8-c8e45e698426 button');\n",
              "      quickchartButtonEl.style.display =\n",
              "        google.colab.kernel.accessAllowed ? 'block' : 'none';\n",
              "    })();\n",
              "  </script>\n",
              "</div>\n",
              "    </div>\n",
              "  </div>\n"
            ]
          },
          "metadata": {},
          "execution_count": 22
        }
      ]
    },
    {
      "cell_type": "code",
      "source": [],
      "metadata": {
        "id": "f5zKlQqT6IM0"
      },
      "execution_count": 22,
      "outputs": []
    }
  ]
}