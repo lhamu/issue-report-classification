{
 "cells": [
  {
   "cell_type": "code",
   "execution_count": 10,
   "metadata": {},
   "outputs": [],
   "source": [
    "import pandas as pd"
   ]
  },
  {
   "cell_type": "code",
   "execution_count": 11,
   "metadata": {},
   "outputs": [],
   "source": [
    "train_file_path = r\"C:\\Users\\upech\\Documents\\MLforMDE\\issue-report-classification\\data\\issues_train.csv\"\n",
    "test_file_path = r\"C:\\Users\\upech\\Documents\\MLforMDE\\issue-report-classification\\data\\issues_test.csv\"\n",
    "\n",
    "train_df = pd.read_csv(train_file_path)\n",
    "test_df = pd.read_csv(test_file_path)"
   ]
  },
  {
   "cell_type": "code",
   "execution_count": 5,
   "metadata": {},
   "outputs": [
    {
     "name": "stdout",
     "output_type": "stream",
     "text": [
      "Requirement already satisfied: ekphrasis in c:\\users\\upech\\appdata\\local\\continuum\\anaconda3\\envs\\python310\\lib\\site-packages (0.5.4)\n",
      "Requirement already satisfied: matplotlib in c:\\users\\upech\\appdata\\local\\continuum\\anaconda3\\envs\\python310\\lib\\site-packages (from ekphrasis) (3.8.2)\n",
      "Requirement already satisfied: termcolor in c:\\users\\upech\\appdata\\local\\continuum\\anaconda3\\envs\\python310\\lib\\site-packages (from ekphrasis) (2.4.0)\n",
      "Requirement already satisfied: numpy in c:\\users\\upech\\appdata\\local\\continuum\\anaconda3\\envs\\python310\\lib\\site-packages (from ekphrasis) (1.22.1)\n",
      "Requirement already satisfied: tqdm in c:\\users\\upech\\appdata\\local\\continuum\\anaconda3\\envs\\python310\\lib\\site-packages (from ekphrasis) (4.66.1)\n",
      "Requirement already satisfied: ftfy in c:\\users\\upech\\appdata\\local\\continuum\\anaconda3\\envs\\python310\\lib\\site-packages (from ekphrasis) (6.1.3)\n",
      "Requirement already satisfied: colorama in c:\\users\\upech\\appdata\\local\\continuum\\anaconda3\\envs\\python310\\lib\\site-packages (from ekphrasis) (0.4.4)\n",
      "Requirement already satisfied: ujson in c:\\users\\upech\\appdata\\local\\continuum\\anaconda3\\envs\\python310\\lib\\site-packages (from ekphrasis) (5.9.0)\n",
      "Requirement already satisfied: nltk in c:\\users\\upech\\appdata\\local\\continuum\\anaconda3\\envs\\python310\\lib\\site-packages (from ekphrasis) (3.8.1)\n",
      "Requirement already satisfied: wcwidth<0.3.0,>=0.2.12 in c:\\users\\upech\\appdata\\local\\continuum\\anaconda3\\envs\\python310\\lib\\site-packages (from ftfy->ekphrasis) (0.2.13)\n",
      "Requirement already satisfied: pyparsing>=2.3.1 in c:\\users\\upech\\appdata\\local\\continuum\\anaconda3\\envs\\python310\\lib\\site-packages (from matplotlib->ekphrasis) (3.0.7)\n",
      "Requirement already satisfied: kiwisolver>=1.3.1 in c:\\users\\upech\\appdata\\local\\continuum\\anaconda3\\envs\\python310\\lib\\site-packages (from matplotlib->ekphrasis) (1.4.5)\n",
      "Requirement already satisfied: packaging>=20.0 in c:\\users\\upech\\appdata\\local\\continuum\\anaconda3\\envs\\python310\\lib\\site-packages (from matplotlib->ekphrasis) (21.3)\n",
      "Requirement already satisfied: python-dateutil>=2.7 in c:\\users\\upech\\appdata\\local\\continuum\\anaconda3\\envs\\python310\\lib\\site-packages (from matplotlib->ekphrasis) (2.8.2)\n",
      "Requirement already satisfied: fonttools>=4.22.0 in c:\\users\\upech\\appdata\\local\\continuum\\anaconda3\\envs\\python310\\lib\\site-packages (from matplotlib->ekphrasis) (4.47.0)\n",
      "Requirement already satisfied: pillow>=8 in c:\\users\\upech\\appdata\\local\\continuum\\anaconda3\\envs\\python310\\lib\\site-packages (from matplotlib->ekphrasis) (9.0.0)\n",
      "Requirement already satisfied: cycler>=0.10 in c:\\users\\upech\\appdata\\local\\continuum\\anaconda3\\envs\\python310\\lib\\site-packages (from matplotlib->ekphrasis) (0.12.1)\n",
      "Requirement already satisfied: contourpy>=1.0.1 in c:\\users\\upech\\appdata\\local\\continuum\\anaconda3\\envs\\python310\\lib\\site-packages (from matplotlib->ekphrasis) (1.2.0)\n",
      "Requirement already satisfied: six>=1.5 in c:\\users\\upech\\appdata\\local\\continuum\\anaconda3\\envs\\python310\\lib\\site-packages (from python-dateutil>=2.7->matplotlib->ekphrasis) (1.16.0)\n",
      "Requirement already satisfied: joblib in c:\\users\\upech\\appdata\\local\\continuum\\anaconda3\\envs\\python310\\lib\\site-packages (from nltk->ekphrasis) (1.3.2)\n",
      "Requirement already satisfied: regex>=2021.8.3 in c:\\users\\upech\\appdata\\local\\continuum\\anaconda3\\envs\\python310\\lib\\site-packages (from nltk->ekphrasis) (2023.12.25)\n",
      "Requirement already satisfied: click in c:\\users\\upech\\appdata\\local\\continuum\\anaconda3\\envs\\python310\\lib\\site-packages (from nltk->ekphrasis) (8.0.3)\n"
     ]
    }
   ],
   "source": [
    "!pip install ekphrasis"
   ]
  },
  {
   "cell_type": "code",
   "execution_count": 12,
   "metadata": {},
   "outputs": [
    {
     "data": {
      "text/plain": [
       "Index(['repo', 'created_at', 'label', 'title', 'body'], dtype='object')"
      ]
     },
     "execution_count": 12,
     "metadata": {},
     "output_type": "execute_result"
    }
   ],
   "source": [
    "train_df.columns"
   ]
  },
  {
   "cell_type": "code",
   "execution_count": 6,
   "metadata": {},
   "outputs": [
    {
     "name": "stdout",
     "output_type": "stream",
     "text": [
      "Requirement already satisfied: scikit-learn in c:\\users\\upech\\appdata\\local\\continuum\\anaconda3\\envs\\python310\\lib\\site-packages (1.3.2)\n",
      "Requirement already satisfied: scipy>=1.5.0 in c:\\users\\upech\\appdata\\local\\continuum\\anaconda3\\envs\\python310\\lib\\site-packages (from scikit-learn) (1.11.4)\n",
      "Requirement already satisfied: joblib>=1.1.1 in c:\\users\\upech\\appdata\\local\\continuum\\anaconda3\\envs\\python310\\lib\\site-packages (from scikit-learn) (1.3.2)\n",
      "Requirement already satisfied: threadpoolctl>=2.0.0 in c:\\users\\upech\\appdata\\local\\continuum\\anaconda3\\envs\\python310\\lib\\site-packages (from scikit-learn) (3.2.0)\n",
      "Requirement already satisfied: numpy<2.0,>=1.17.3 in c:\\users\\upech\\appdata\\local\\continuum\\anaconda3\\envs\\python310\\lib\\site-packages (from scikit-learn) (1.22.1)\n"
     ]
    }
   ],
   "source": [
    "!pip install scikit-learn"
   ]
  },
  {
   "cell_type": "code",
   "execution_count": 4,
   "metadata": {},
   "outputs": [],
   "source": [
    "from sklearn.preprocessing import LabelEncoder\n",
    "\n",
    "from ekphrasis.dicts.emoticons import emoticons\n",
    "from ekphrasis.classes.tokenizer import SocialTokenizer\n",
    "from ekphrasis.classes.preprocessor import TextPreProcessor\n",
    "\n",
    "from tqdm import tqdm"
   ]
  },
  {
   "cell_type": "code",
   "execution_count": 7,
   "metadata": {},
   "outputs": [],
   "source": [
    "def get_ekphrasis_preprocessor():\n",
    "    return TextPreProcessor(\n",
    "    # terms that will be normalized\n",
    "    normalize=['url', 'email', 'percent', 'money', 'phone', 'user',\n",
    "        'time', 'url', 'date', 'number'],\n",
    "    # terms that will be annotated\n",
    "    annotate={\"hashtag\", \"allcaps\", \"elongated\", \"repeated\",\n",
    "        'emphasis', 'censored'},\n",
    "    fix_html=True,  # fix HTML tokens\n",
    "    \n",
    "    # corpus from which the word statistics are going to be used \n",
    "    # for word segmentation \n",
    "    segmenter=\"twitter\", \n",
    "    \n",
    "    # corpus from which the word statistics are going to be used \n",
    "    # for spell correction\n",
    "    corrector=\"twitter\", \n",
    "    \n",
    "    unpack_hashtags=True,  # perform word segmentation on hashtags\n",
    "    unpack_contractions=True,  # Unpack contractions (can't -> can not)\n",
    "    spell_correct_elong=False,  # spell correction for elongated words\n",
    "    \n",
    "    # select a tokenizer. You can use SocialTokenizer, or pass your own\n",
    "    # the tokenizer, should take as input a string and return a list of tokens\n",
    "    tokenizer=SocialTokenizer(lowercase=True).tokenize,\n",
    "    \n",
    "    # list of dictionaries, for replacing tokens extracted from the text,\n",
    "    # with other expressions. You can pass more than one dictionaries.\n",
    "    dicts=[emoticons]\n",
    "    )"
   ]
  },
  {
   "cell_type": "code",
   "execution_count": 14,
   "metadata": {},
   "outputs": [
    {
     "name": "stdout",
     "output_type": "stream",
     "text": [
      "Reading twitter - 1grams ...\n",
      "Reading twitter - 2grams ...\n",
      "Reading twitter - 1grams ...\n",
      "Reading twitter - 1grams ...\n",
      "Reading twitter - 2grams ...\n",
      "Reading twitter - 1grams ...\n"
     ]
    }
   ],
   "source": [
    "import re\n",
    "\n",
    "label_to_int = {\n",
    "    \"bug\": 0,\n",
    "    \"feature\": 1,\n",
    "    \"question\": 2\n",
    "}\n",
    "\n",
    "image_regex = re.compile('!(.*).*')\n",
    "link_regex_1 = re.compile('(.*).*')\n",
    "link_regex_2 = re.compile('(.*): [^\\s]+')\n",
    "code_regex = re.compile('(:?`[^`]+`|```[^`]*```)')\n",
    "\n",
    "def perform_preprocessing(text, preprocessor):\n",
    "    text = \" \".join(text.split())\n",
    "    text = text.lower()\n",
    "    cleaned_text = re.sub(image_regex, r'\\1 ', text)\n",
    "    cleaned_text = re.sub(link_regex_1, r'\\1 ', cleaned_text)\n",
    "    cleaned_text = re.sub(link_regex_2, r'\\1 ', cleaned_text)\n",
    "    cleaned_text = re.sub(code_regex, r'\\1 ', cleaned_text)\n",
    "\n",
    "    cleaned_text = \" \".join(preprocessor.pre_process_doc(cleaned_text))\n",
    "    \n",
    "    return cleaned_text\n",
    "\n",
    "def preprocess_dataframe(df):\n",
    "    preprocessor = get_ekphrasis_preprocessor()\n",
    "    cleaned_df = df.copy()\n",
    "    cleaned_df[\"issue_text\"] = cleaned_df.apply(lambda x: str(x[\"title\"]) + \" \" + str(x[\"body\"]), axis=1)\n",
    "    label_encoder = lambda x: label_to_int[x]\n",
    "    cleaned_df[\"label\"] = [label_encoder(x) for x in cleaned_df['label']]\n",
    "    cleaned_df = cleaned_df[[\"repo\", \"issue_text\", \"label\"]]\n",
    "    cleaned_df[\"issue_text\"] = cleaned_df[\"issue_text\"].apply(lambda x: perform_preprocessing(x, preprocessor))\n",
    "    \n",
    "    return cleaned_df\n",
    "\n",
    "cleaned_train_df = preprocess_dataframe(train_df)\n",
    "cleaned_test_df = preprocess_dataframe(test_df)\n"
   ]
  },
  {
   "cell_type": "code",
   "execution_count": 15,
   "metadata": {},
   "outputs": [],
   "source": [
    "cleaned_train_df.to_csv(\"preprocessed_issues_train.csv\", index=False)\n",
    "cleaned_test_df.to_csv(\"preprocessed_issues_test.csv\", index=False)\n"
   ]
  },
  {
   "cell_type": "code",
   "execution_count": 18,
   "metadata": {},
   "outputs": [
    {
     "data": {
      "text/plain": [
       "(1500, 3)"
      ]
     },
     "execution_count": 18,
     "metadata": {},
     "output_type": "execute_result"
    }
   ],
   "source": [
    "cleaned_train_df.shape\n",
    "cleaned_test_df.shape"
   ]
  },
  {
   "cell_type": "code",
   "execution_count": null,
   "metadata": {},
   "outputs": [],
   "source": []
  }
 ],
 "metadata": {
  "kernelspec": {
   "display_name": "python310",
   "language": "python",
   "name": "python3"
  },
  "language_info": {
   "codemirror_mode": {
    "name": "ipython",
    "version": 3
   },
   "file_extension": ".py",
   "mimetype": "text/x-python",
   "name": "python",
   "nbconvert_exporter": "python",
   "pygments_lexer": "ipython3",
   "version": "3.10.0"
  }
 },
 "nbformat": 4,
 "nbformat_minor": 2
}
